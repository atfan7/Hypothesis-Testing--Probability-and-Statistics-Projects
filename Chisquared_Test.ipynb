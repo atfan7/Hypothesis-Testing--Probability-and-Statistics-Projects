{
  "nbformat": 4,
  "nbformat_minor": 0,
  "metadata": {
    "colab": {
      "provenance": [],
      "authorship_tag": "ABX9TyPWJzL1Xoc/Adi5RNTX4iUt",
      "include_colab_link": true
    },
    "kernelspec": {
      "name": "python3",
      "display_name": "Python 3"
    },
    "language_info": {
      "name": "python"
    }
  },
  "cells": [
    {
      "cell_type": "markdown",
      "metadata": {
        "id": "view-in-github",
        "colab_type": "text"
      },
      "source": [
        "<a href=\"https://colab.research.google.com/github/atfan7/Probability-and-Statistics-Projects/blob/main/Chisquared_Test.ipynb\" target=\"_parent\"><img src=\"https://colab.research.google.com/assets/colab-badge.svg\" alt=\"Open In Colab\"/></a>"
      ]
    },
    {
      "cell_type": "code",
      "execution_count": 3,
      "metadata": {
        "colab": {
          "base_uri": "https://localhost:8080/"
        },
        "id": "m3zvPhIQYND2",
        "outputId": "f737e130-7a55-4f15-f5ea-a056dea001a3"
      },
      "outputs": [
        {
          "output_type": "stream",
          "name": "stdout",
          "text": [
            "Test statistic: 94.26880078578765\n",
            "p-value: 3.925170647869838e-18\n",
            "Reject H0 (Null Hypothesis),i.e. Marital status and alcohol consumption are associated.\n"
          ]
        }
      ],
      "source": [
        "from scipy.stats import chi2_contingency\n",
        "\n",
        "'''\n",
        "H0: Marital status and alcohol consumption are not associated.\n",
        "Ha: Marital status and alcohol consumption are associated. '''\n",
        "\n",
        "observed = [[67,213,74], [411,633,129], [85,51,7], [27,60,15]]\n",
        "test_statistic, p_value, dof, expected_values = chi2_contingency(observed)\n",
        "\n",
        "print(\"Test statistic:\", test_statistic)\n",
        "print(\"p-value:\", p_value)\n",
        "\n",
        "alpha = 0.05\n",
        "\n",
        "if(p_value < alpha):\n",
        "  print(\"Reject H0 (Null Hypothesis),i.e. Marital status and alcohol consumption are associated.\")\n",
        "else:\n",
        "  print(\"Fail to Reject H0 (Null Hypothesis),i.e. Marital status and alcohol consumption are not associated.\")"
      ]
    },
    {
      "cell_type": "code",
      "source": [
        "import numpy as np\n",
        "from scipy.stats import chi2_contingency\n",
        "\n",
        "# Create a 2D NumPy array with the observed data\n",
        "observed = np.array([[33,218],\n",
        "[25,389],\n",
        "[20, 393],\n",
        "[17, 178]])\n",
        "\n",
        "# Perform a chi-squared test for independence\n",
        "chi2, p, df, exp_freq = chi2_contingency(observed)\n",
        "\n",
        "# Define the significance level\n",
        "alpha = 0.1\n",
        "\n",
        "# Print the chi-squared statistic and p-value\n",
        "print(f\"Chi-squared statistic: {chi2}\")\n",
        "print(f\"P-value: {p}\")\n",
        "print(f\"df: {df}\")\n",
        "print(f\"expected frequency: {exp_freq}\")\n",
        "\n",
        "# Compare the p-value to the significance level\n",
        "if p < alpha:\n",
        "  print(\"Reject the null hypothesis. Conclusion: education level and diabetic state are associated\")\n",
        "else:\n",
        "  print(\"Fail to reject the null hypothesis. Conclusion: education level and diabetic state are not associated\")"
      ],
      "metadata": {
        "colab": {
          "base_uri": "https://localhost:8080/"
        },
        "id": "qUagWL0sYyrE",
        "outputId": "c4f4b288-ba76-491d-c242-23598686b39b"
      },
      "execution_count": 6,
      "outputs": [
        {
          "output_type": "stream",
          "name": "stdout",
          "text": [
            "Chi-squared statistic: 17.51186847271713\n",
            "P-value: 0.000554511571355531\n",
            "df: 3\n",
            "expected frequency: [[ 18.73134328 232.26865672]\n",
            " [ 30.89552239 383.10447761]\n",
            " [ 30.82089552 382.17910448]\n",
            " [ 14.55223881 180.44776119]]\n",
            "Reject the null hypothesis. Conclusion: education level and diabetic state are associated\n"
          ]
        }
      ]
    },
    {
      "cell_type": "code",
      "source": [
        "from scipy.stats import chi2_contingency\n",
        "observed = [[77,149,78],\n",
        "[23,56,36],\n",
        "[8,24,29],\n",
        "[6,15,8]]\n",
        "\n",
        "test_statistic, p_value, dof, expected_values = chi2_contingency(observed)\n",
        "\n",
        "print(\"Test statistic:\", test_statistic)\n",
        "print(\"p-value:\", p_value)\n",
        "\n",
        "alpha = 0.05\n",
        "\n",
        "if(p_value < alpha):\n",
        "  print(\"Reject H0 (Null Hypothesis,association exists between religiosity and education)\")\n",
        "else:\n",
        "  print(\"Fail to Reject H0 (Null Hypothesis),no concrete evidence\")"
      ],
      "metadata": {
        "colab": {
          "base_uri": "https://localhost:8080/"
        },
        "id": "e1AHyHrxacM5",
        "outputId": "8b58ae9f-5167-4049-a6df-79037009f0de"
      },
      "execution_count": 8,
      "outputs": [
        {
          "output_type": "stream",
          "name": "stdout",
          "text": [
            "Test statistic: 13.322313008960627\n",
            "p-value: 0.038193742691133806\n",
            "Reject H0 (Null Hypothesis)\n"
          ]
        }
      ]
    },
    {
      "cell_type": "code",
      "source": [
        "import numpy as np\n",
        "from scipy.stats import chi2_contingency\n",
        "\n",
        "# Create a 2D NumPy array with the observed data\n",
        "observed = np.array([[335,348, 318],\n",
        "[35, 23, 50]])\n",
        "\n",
        "# Perform a chi-squared test for independence\n",
        "chi2, p, df, exp_freq = chi2_contingency(observed)\n",
        "p = round(p,3)\n",
        "\n",
        "# Define the significance level\n",
        "alpha = 0.01\n",
        "\n",
        "# Print the chi-squared statistic and p-value\n",
        "print(f\"Chi-squared statistic: {chi2}\")\n",
        "print(f\"P-value: {p}\")\n",
        "print(f\"df: {df}\")\n",
        "print(f\"expected frequency: {exp_freq}\")\n",
        "\n",
        "# Compare the p-value to the significance level\n",
        "if p < alpha:\n",
        "  print(f\"Reject the null hypothesis. p_value={p}, response and regions are associated\")\n",
        "else:\n",
        "  print(f\"Fail to reject the null hypothesis. p_value={p}, response and regions are not associated\")\n"
      ],
      "metadata": {
        "colab": {
          "base_uri": "https://localhost:8080/"
        },
        "id": "ENUYPepFbAKS",
        "outputId": "90b41064-c017-4cbf-bc60-f429893b4181"
      },
      "execution_count": 10,
      "outputs": [
        {
          "output_type": "stream",
          "name": "stdout",
          "text": [
            "Chi-squared statistic: 11.519544916042339\n",
            "P-value: 0.003\n",
            "df: 2\n",
            "expected frequency: [[333.96753832 334.87015329 332.16230839]\n",
            " [ 36.03246168  36.12984671  35.83769161]]\n",
            "Reject the null hypothesis. p_value=0.003, response and regions are associated\n"
          ]
        }
      ]
    },
    {
      "cell_type": "code",
      "source": [
        "#H0: Age and internet usage are independent.\n",
        "#Ha: Age and internet usage are associated.\n",
        "\n",
        "alpha = 0.01\n",
        "\n",
        "observed = [\n",
        "    [6, 38, 31],\n",
        "    [14, 31, 4],\n",
        "    [50, 50, 5]\n",
        "]\n",
        "\n",
        "chi_stat, p_value, df , exp_freq = chi2_contingency(observed)\n",
        "print(chi_stat)\n",
        "print(p_value)\n",
        "print(df)\n",
        "print(exp_freq)\n",
        "\n",
        "if p_value < alpha:\n",
        "  print(\"Reject H0\")\n",
        "  print(\"Age and internet usage are associated.\")\n",
        "else:\n",
        "  print(\"Fail to reject H0\")\n",
        "  print(\"Age and internet usage are independent.\")"
      ],
      "metadata": {
        "colab": {
          "base_uri": "https://localhost:8080/"
        },
        "id": "8osUEuaJbhY0",
        "outputId": "b45ce3b0-6779-43e5-9990-f8270b2d0783"
      },
      "execution_count": 11,
      "outputs": [
        {
          "output_type": "stream",
          "name": "stdout",
          "text": [
            "60.74604310295546\n",
            "2.0217185191724964e-12\n",
            "4\n",
            "[[22.92576419 38.97379913 13.10043668]\n",
            " [14.97816594 25.4628821   8.55895197]\n",
            " [32.09606987 54.56331878 18.34061135]]\n",
            "Reject H0\n",
            "Age and internet usage are associated.\n"
          ]
        }
      ]
    },
    {
      "cell_type": "code",
      "source": [
        "import numpy as np\n",
        "from scipy.stats import chi2_contingency\n",
        "\n",
        "# Create a 2D NumPy array with the observed data\n",
        "observed = np.array([[75, 106, 46],\n",
        "[106, 161, 61],\n",
        "[98, 183, 52],\n",
        "[48, 102, 14]\n",
        "])\n",
        "\n",
        "# Perform a chi-squared test for independence\n",
        "chi2, p, df, exp_freq = chi2_contingency(observed)\n",
        "p = round(p,3)\n",
        "\n",
        "# Define the significance level\n",
        "alpha = 0.05\n",
        "\n",
        "# Print the chi-squared statistic and p-value\n",
        "print(f\"Chi-squared statistic: {chi2}\")\n",
        "print(f\"P-value: {p}\")\n",
        "print(f\"df: {df}\")\n",
        "print(f\"expected frequency: {exp_freq}\")\n",
        "\n",
        "# Compare the p-value to the significance level\n",
        "if p < alpha:\n",
        "  print(f\"Reject the null hypothesis. p_value={p}, type of residence is related to income level\")\n",
        "else:\n",
        "  print(f\"Fail to reject the null hypothesis. p_value={p}, type of residence is not related to income level\")\n"
      ],
      "metadata": {
        "colab": {
          "base_uri": "https://localhost:8080/"
        },
        "id": "6ZTy7Y7Qb6qO",
        "outputId": "224c5722-2492-4e87-b000-b0ddb1b9c775"
      },
      "execution_count": 13,
      "outputs": [
        {
          "output_type": "stream",
          "name": "stdout",
          "text": [
            "Chi-squared statistic: 15.727554171801787\n",
            "P-value: 0.015\n",
            "df: 6\n",
            "expected frequency: [[ 70.55988593 119.11026616  37.32984791]\n",
            " [101.95437262 172.10646388  53.9391635 ]\n",
            " [103.50855513 174.73003802  54.76140684]\n",
            " [ 50.97718631  86.05323194  26.96958175]]\n",
            "Reject the null hypothesis. p_value=0.015, type of residence is related to income level\n"
          ]
        }
      ]
    },
    {
      "cell_type": "code",
      "source": [
        "import scipy.stats as stats\n",
        "\n",
        "# Observed frequencies from your survey\n",
        "observed = [73, 38, 18]\n",
        "\n",
        "# Expected frequencies based on the original survey\n",
        "total_surveyed = sum(observed)\n",
        "expected = [0.60 * total_surveyed, 0.28 * total_surveyed, 0.12 * total_surveyed]\n",
        "\n",
        "# Perform the chi-squared test\n",
        "chi_squared, p_value = stats.chisquare(f_obs=observed, f_exp=expected)\n",
        "\n",
        "# Set the significance level\n",
        "alpha = 0.05\n",
        "\n",
        "# Determine the critical chi-squared value (2 degrees of freedom)\n",
        "critical_chi_squared = stats.chi2.ppf(1 - alpha, df=2)\n",
        "\n",
        "# Print the results\n",
        "print(f\"Chi-Squared Statistic: {chi_squared}\")\n",
        "print(f\"P-Value: {p_value}\")\n",
        "print(f\"Critical Chi-Squared Value: {critical_chi_squared}\")\n",
        "\n",
        "# Make a decision\n",
        "if chi_squared > critical_chi_squared:\n",
        "    print(\"Reject the null hypothesis\")\n",
        "else:\n",
        "    print(\"Fail to reject the null hypothesis\")\n"
      ],
      "metadata": {
        "colab": {
          "base_uri": "https://localhost:8080/"
        },
        "id": "JFVhBR_CdQyz",
        "outputId": "136e50e4-2ca5-4de7-e8d9-861e5c5e8372"
      },
      "execution_count": 14,
      "outputs": [
        {
          "output_type": "stream",
          "name": "stdout",
          "text": [
            "Chi-Squared Statistic: 0.7582133628645247\n",
            "P-Value: 0.6844725882551137\n",
            "Critical Chi-Squared Value: 5.991464547107979\n",
            "Fail to reject the null hypothesis\n"
          ]
        }
      ]
    },
    {
      "cell_type": "code",
      "source": [
        "#H0: Coin is fair.\n",
        "#Ha: Coin is biased.\n",
        "\n",
        "alpha = 0.05\n",
        "\n",
        "chi_stat , p_value = stats.chisquare(\n",
        "    [48, 52],\n",
        "    [50, 50]\n",
        ")\n",
        "\n",
        "print(chi_stat)\n",
        "print(p_value)\n",
        "\n",
        "if p_value < alpha:\n",
        "  print(\"Reject H0\")\n",
        "  print(\"Coin is biased.\")\n",
        "else:\n",
        "  print(\"Fail to reject H0\")\n",
        "  print(\"Coin is fair.\")"
      ],
      "metadata": {
        "colab": {
          "base_uri": "https://localhost:8080/"
        },
        "id": "qMp1VbJOelkM",
        "outputId": "e94b25c2-adb0-469e-e8ed-fdfad6401f12"
      },
      "execution_count": 17,
      "outputs": [
        {
          "output_type": "stream",
          "name": "stdout",
          "text": [
            "0.16\n",
            "0.6891565167793516\n",
            "Fail to reject H0\n",
            "Coin is fair.\n"
          ]
        }
      ]
    },
    {
      "cell_type": "code",
      "source": [
        "# Ho : Distribution of preferences matches your expectations. (Null Hypothesis)\n",
        "# Ha : Distribution of preferences does not matches your expectations. (Alternate Hypothesis)\n",
        "import scipy.stats as stats\n",
        "from scipy.stats import chi2_contingency\n",
        "\n",
        "expected = [60, 80, 60]\n",
        "observed = [70, 80, 50]\n",
        "alpha = 0.05\n",
        "\n",
        "chi_stat, p_value = stats.chisquare(observed, expected)\n",
        "\n",
        "if p_value < alpha:\n",
        "    print(\"Reject null hypo, distribution of preferences does not matches your expectations\")\n",
        "else:\n",
        "    print(\"Can't reject null Hypo , distribution of preferences matches your expectations\")\n",
        "\n",
        "print(f\"P Value : {p_value}\")\n",
        "print(f\"Chi Statistic : {chi_stat}\")\n"
      ],
      "metadata": {
        "colab": {
          "base_uri": "https://localhost:8080/"
        },
        "id": "Z22HjAASgLzy",
        "outputId": "72c5631f-2247-4e02-8f1c-7031e149d7f3"
      },
      "execution_count": 23,
      "outputs": [
        {
          "output_type": "stream",
          "name": "stdout",
          "text": [
            "Can't reject null Hypo , distribution of preferences matches your expectations\n",
            "P Value : 0.1888756028375618\n",
            "Chi Statistic : 3.3333333333333335\n"
          ]
        }
      ]
    }
  ]
}