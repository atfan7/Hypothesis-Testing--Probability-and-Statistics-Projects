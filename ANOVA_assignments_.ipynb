{
  "nbformat": 4,
  "nbformat_minor": 0,
  "metadata": {
    "colab": {
      "provenance": [],
      "authorship_tag": "ABX9TyMjQGiOIcYf27E885vS8LE2",
      "include_colab_link": true
    },
    "kernelspec": {
      "name": "python3",
      "display_name": "Python 3"
    },
    "language_info": {
      "name": "python"
    }
  },
  "cells": [
    {
      "cell_type": "markdown",
      "metadata": {
        "id": "view-in-github",
        "colab_type": "text"
      },
      "source": [
        "<a href=\"https://colab.research.google.com/github/atfan7/Hypothesis-Testing--Probability-and-Statistics-Projects/blob/main/ANOVA_assignments_.ipynb\" target=\"_parent\"><img src=\"https://colab.research.google.com/assets/colab-badge.svg\" alt=\"Open In Colab\"/></a>"
      ]
    },
    {
      "cell_type": "code",
      "execution_count": 1,
      "metadata": {
        "id": "oMX8lr0CSWFq"
      },
      "outputs": [],
      "source": [
        "import numpy as np\n",
        "import pandas as pd\n",
        "import seaborn as sns\n",
        "import matplotlib.pyplot as plt\n",
        "\n",
        "from scipy.stats import f_oneway, f\n",
        "\n",
        "from scipy.stats import ttest_ind\n",
        "\n",
        "from statsmodels.graphics.gofplots import qqplot  #probplot\n",
        "from scipy.stats import shapiro\n",
        "\n",
        "from scipy.stats import levene\n",
        "\n",
        "from scipy.stats import kruskal"
      ]
    },
    {
      "cell_type": "markdown",
      "source": [
        "Q1 :The United States is divided into four regions: Northeast, Midwest, South and West regions.\n",
        "\n",
        "Independent random samples of households in these regions yielded the data on last year’s energy consumptions.\n",
        "\n",
        "a = [13, 8, 11, 12, 11]\n",
        "b = [15, 10, 16, 11, 13, 10]\n",
        "c = [5, 11, 9, 5]\n",
        "d = [8, 10, 6, 5, 7]\n",
        "\n",
        "At a 5% significance level, does the data provide sufficient evidence to conclude that there is a difference in last year’s mean energy consumption\n",
        "by households among the four regions?\n",
        "\n"
      ],
      "metadata": {
        "id": "EnKdpLr-VDsf"
      }
    },
    {
      "cell_type": "markdown",
      "source": [
        "1) Based on the given problem, we define our hypothesis as:\n",
        "\n",
        "H0 : Last year’s mean energy consumption is equal among households of the four regions\n",
        "Ha : Not all regions’ households had the same mean energy consumption in last year"
      ],
      "metadata": {
        "id": "KGlopU8JS1Bt"
      }
    },
    {
      "cell_type": "code",
      "source": [
        "a = [13, 8, 11, 12, 11]\n",
        "b = [15, 10, 16, 11, 13, 10]\n",
        "c = [5, 11, 9, 5]\n",
        "d = [8, 10, 6, 5, 7]\n",
        "\n",
        "test_statistic, p_value = f_oneway(a,b,c,d)\n",
        "\n",
        "print(p_value)\n",
        "\n",
        "if p_value < 0.05:\n",
        "    print(\"Reject H0; Not all regions' households had the same mean energy consumption in last year\")\n",
        "else:\n",
        "    print(\"Fail to reject H0; Last year's mean energy consumption is equal among households of the four regions\")\n"
      ],
      "metadata": {
        "colab": {
          "base_uri": "https://localhost:8080/"
        },
        "id": "9TPOoHvSSbnx",
        "outputId": "186380f7-e16f-44d5-f6b7-321fcb724b60"
      },
      "execution_count": 3,
      "outputs": [
        {
          "output_type": "stream",
          "name": "stdout",
          "text": [
            "0.0049302919205628576\n",
            "Reject H0; Not all regions' households had the same mean energy consumption in last year\n"
          ]
        }
      ]
    },
    {
      "cell_type": "markdown",
      "source": [
        "Q2: There is a website, \"www.goodreads.com\" where people can leave their reviews about a book and rate them on a scale of 1 to 5 stars.\n",
        "The following table gives the number of pages of a random sample of books with different ratings, as listed on the site:\n",
        "\n",
        "\n",
        "one_star = [382, 391, 335, 368, 400, 372]\n",
        "two_star = [560, 343, 512, 329, 391, 367]\n",
        "three_star = [384, 458, 409, 309, 374, 459]\n",
        "four_star = [325, 390, 304, 240, 306, 169]\n",
        "five_star = [360, 298, 272, 368, 320, 326]\n",
        "At a 1% significance level, does the data provide sufficient evidence to conclude that there is a difference in the mean number of pages among books in these five rating groups?"
      ],
      "metadata": {
        "id": "UxP_RY_GVLjn"
      }
    },
    {
      "cell_type": "code",
      "source": [
        "#H0: difference exists in mean number of pages among books in the five rating groups\n",
        "#Ha: There is no difference exists in mean number of pages among books in the five rating groups\n",
        "\n",
        "alpha = 0.01\n",
        "\n",
        "one_star = [382, 391, 335, 368, 400, 372]\n",
        "two_star = [560, 343, 512, 329, 391, 367]\n",
        "three_star = [384, 458, 409, 309, 374, 459]\n",
        "four_star = [325, 390, 304, 240, 306, 169]\n",
        "five_star = [360, 298, 272, 368, 320, 326]\n",
        "\n",
        "annova_stat , pval = f_oneway(one_star,two_star,three_star,four_star,five_star)\n",
        "\n",
        "print(pval)\n",
        "\n",
        "if pval < alpha:\n",
        "  print(\"difference exists in mean number of pages among books in the five rating groups\")\n",
        "else:\n",
        "  print(\"There is no difference exists in mean number of pages among books in the five rating groups\")"
      ],
      "metadata": {
        "colab": {
          "base_uri": "https://localhost:8080/"
        },
        "id": "fZafeVC-TIA4",
        "outputId": "8f6416c8-4717-42ec-de04-831e1cbec5ca"
      },
      "execution_count": 5,
      "outputs": [
        {
          "output_type": "stream",
          "name": "stdout",
          "text": [
            "0.009362001936328837\n",
            "difference exists in mean number of pages among books in the five rating groups\n"
          ]
        }
      ]
    },
    {
      "cell_type": "markdown",
      "source": [
        " Q 3: Consumer Reports publishes reviews and comparisons of products based on results from its laboratory.\n",
        "Data from their website gave the following table for battery lives in hours, for samples of smartphones made by four different mobile companies.\n",
        "\n",
        "Brand_A = [19.60, 18.82, 19.00, 18.45, 19.79, 19.03, 17.89, 19.42]\n",
        "Brand_B = [21.10, 20.00, 20.43, 19.67, 18.99, 19.98, 20.14, 19.78]\n",
        "Brand_C = [10.31, 10.02, 9.41, 9.89, 10.05, 10.52, 11.02, 10.42]\n",
        "Brand_D = [17.02, 16.71, 17.78, 18.65, 15.98, 17.63, 17.00, 16.78, 16.92, 17.14]\n",
        "At 2% significance level, does the data provide sufficient evidence to conclude that there is a significant difference in the mean battery life, among the four brands?\n",
        "\n",
        "And, if significant, then perform pairwise T-tests to identify which pairs of smartphone brands offer a different mean battery life.\n",
        "\n"
      ],
      "metadata": {
        "id": "PU6Mz9w8UZev"
      }
    },
    {
      "cell_type": "code",
      "source": [
        "# Sample data for battery life of different smartphone brands\n",
        "brand_A = [19.60, 18.82, 19.00, 18.45, 19.79, 19.03, 17.89, 19.42]\n",
        "brand_B = [21.10, 20.00, 20.43, 19.67, 18.99, 19.98, 20.14, 19.78]\n",
        "brand_C = [10.31, 10.02, 9.41, 9.89, 10.05, 10.52, 11.02, 10.42]\n",
        "brand_D = [17.02, 16.71, 17.78, 18.65, 15.98, 17.63, 17.00, 16.78, 16.92, 17.14]\n",
        "\n",
        "# Perform one-way ANOVA\n",
        "f_statistic, p_value = stats.f_oneway(brand_A, brand_B, brand_C, brand_D)\n",
        "\n",
        "# Print the results\n",
        "print(\"One-Way ANOVA results:\")\n",
        "print(\"F-statistic:\", f_statistic)\n",
        "print(\"P-value:\", p_value)\n",
        "\n",
        "alpha = 0.02\n",
        "\n",
        "# Interpret the results of one-way ANOVA\n",
        "if p_value < alpha:\n",
        "   print(\"Reject the null hypothesis\")\n",
        "   print(\"There is at least one pair of smartphone brands that offer a significantly different mean battery life.\")\n",
        "else:\n",
        "   print(\"Fail to reject the null hypothesis\")\n",
        "   print(\"There are no significant differences in the mean battery life of smartphones among these 4 brands.\")"
      ],
      "metadata": {
        "colab": {
          "base_uri": "https://localhost:8080/"
        },
        "id": "f6RrmxaPUqIP",
        "outputId": "3082ba1e-13ad-476c-953c-251b724b75f0"
      },
      "execution_count": 7,
      "outputs": [
        {
          "output_type": "stream",
          "name": "stdout",
          "text": [
            "One-Way ANOVA results:\n",
            "F-statistic: 404.7865500650496\n",
            "P-value: 2.392149441499325e-24\n",
            "Reject the null hypothesis\n",
            "There is at least one pair of smartphone brands that offer a significantly different mean battery life.\n"
          ]
        }
      ]
    },
    {
      "cell_type": "code",
      "source": [
        "from scipy.stats import ttest_ind\n",
        "\n",
        "\n",
        "# Sample data for battery life of different brand smartphones\n",
        "brand_A = [19.60, 18.82, 19.00, 18.45, 19.79, 19.03, 17.89, 19.42]\n",
        "brand_B = [21.10, 20.00, 20.43, 19.67, 18.99, 19.98, 20.14, 19.78]\n",
        "brand_C = [10.31, 10.02, 9.41, 9.89, 10.05, 10.52, 11.02, 10.42]\n",
        "brand_D = [17.02, 16.71, 17.78, 18.65, 15.98, 17.63, 17.00, 16.78, 16.92, 17.14]\n",
        "\n",
        "# Perform pairwise t-tests\n",
        "result_ab = ttest_ind(brand_A, brand_B)\n",
        "result_ac = ttest_ind(brand_A, brand_C)\n",
        "result_ad = ttest_ind(brand_A, brand_D)\n",
        "result_bc = ttest_ind(brand_B, brand_C)\n",
        "result_bd = ttest_ind(brand_B, brand_D)\n",
        "result_cd = ttest_ind(brand_C, brand_D)\n",
        "\n",
        "# Significance level\n",
        "alpha = 0.02\n",
        "\n",
        "# Print results\n",
        "print(\"Pairwise t-test results:\")\n",
        "print(\"A vs. B:\", \"Pvalue = \", result_ab.pvalue, \" ; Significant difference in Mean Battery life\" if result_ab.pvalue <= alpha else \"No difference in mean Battery life\")\n",
        "print(\"A vs. C:\", \"Pvalue = \", result_ac.pvalue, \" ; Significant difference in Mean Battery life\" if result_ac.pvalue <= alpha else \"No difference in mean Battery life\")\n",
        "print(\"A vs. D:\", \"Pvalue = \", result_ad.pvalue, \" ; Significant difference in Mean Battery life\" if result_ad.pvalue <= alpha else \"No difference in mean Battery life\")\n",
        "print(\"B vs. C:\", \"Pvalue = \", result_bc.pvalue, \" ; Significant difference in Mean Battery life\" if result_bc.pvalue <= alpha else \"No difference in mean Battery life\")\n",
        "print(\"B vs. D:\", \"Pvalue = \", result_bd.pvalue, \" ; Significant difference in Mean Battery life\" if result_bd.pvalue <= alpha else \"No difference in mean Battery life\")\n",
        "print(\"C vs. D:\", \"Pvalue = \", result_cd.pvalue, \" ; Significant difference in Mean Battery life\" if result_cd.pvalue <= alpha else \"No difference in mean Battery life\")"
      ],
      "metadata": {
        "colab": {
          "base_uri": "https://localhost:8080/"
        },
        "id": "QSplVKXhU0X4",
        "outputId": "630c54f6-2790-4dbb-a966-46fe913453c0"
      },
      "execution_count": 9,
      "outputs": [
        {
          "output_type": "stream",
          "name": "stdout",
          "text": [
            "Pairwise t-test results:\n",
            "A vs. B: Pvalue =  0.005464761718691163  ; Significant difference in Mean Battery life\n",
            "A vs. C: Pvalue =  2.0378129111849533e-14  ; Significant difference in Mean Battery life\n",
            "A vs. D: Pvalue =  3.271164766368406e-05  ; Significant difference in Mean Battery life\n",
            "B vs. C: Pvalue =  3.618464053986992e-15  ; Significant difference in Mean Battery life\n",
            "B vs. D: Pvalue =  1.3124601764847073e-07  ; Significant difference in Mean Battery life\n",
            "C vs. D: Pvalue =  8.33672049161488e-14  ; Significant difference in Mean Battery life\n"
          ]
        }
      ]
    },
    {
      "cell_type": "markdown",
      "source": [
        "Q4: The Highway Administration conducts an annual survey on motor vehicles travelling on the highway. They publish their findings in Highway Statistics, based on different types of vehicles.\n",
        "Independent simple random samples of cars, buses, and trucks yielded the data on number of thousand miles driven last year.\n",
        "\n",
        "\n",
        "cars = [19.9, 15.3, 2.2, 6.8, 34.2, 8.3, 12.0, 7.0, 9.5, 1.1]\n",
        "buses = [1.8, 24.6, 7.2, 37.0, 7.2, 21.2, 6.5, 23.6]\n",
        "trucks = [13.3, 23.0, 25.4, 15.3, 57.1, 14.5, 26.0]\n",
        "\n",
        "We want to decide there is a difference in last year’s mean number of miles driven among cars, buses, and trucks.\n",
        "\n",
        "At a 93% confidence level, does the data provide sufficient evidence to conclude that there is a difference in last year’s mean number of miles driven by cars, buses, and trucks."
      ],
      "metadata": {
        "id": "GhEQldRhVSBB"
      }
    },
    {
      "cell_type": "code",
      "source": [
        "alpha = 0.07\n",
        "cars = [19.9, 15.3, 2.2, 6.8, 34.2, 8.3, 12.0, 7.0, 9.5, 1.1]\n",
        "buses = [1.8, 24.6, 7.2, 37.0, 7.2, 21.2, 6.5, 23.6]\n",
        "trucks = [13.3, 23.0, 25.4, 15.3, 57.1, 14.5, 26.0]\n",
        "\n",
        "annova_stat , pval = f_oneway(cars,buses,trucks)\n",
        "print(pval)\n",
        "\n",
        "if pval < alpha:\n",
        "    print(\"Reject null Ho : difference exists in last year’s mean number of miles driven among cars, buses, and trucks\")\n",
        "else:\n",
        "    print(\"fail to reject Ho : difference does not exists in last year’s mean number of miles driven among cars, buses, and trucks\")"
      ],
      "metadata": {
        "colab": {
          "base_uri": "https://localhost:8080/"
        },
        "id": "gaHAiMNiVZWZ",
        "outputId": "5eb1f8f8-815b-4e01-af57-daef8d0816dd"
      },
      "execution_count": 10,
      "outputs": [
        {
          "output_type": "stream",
          "name": "stdout",
          "text": [
            "0.10782985675757563\n",
            "fail to reject Ho : difference does not exists in last year’s mean number of miles driven among cars, buses, and trucks\n"
          ]
        }
      ]
    },
    {
      "cell_type": "markdown",
      "source": [
        "Q5: Check whether there is a significant difference (consider a 1% significance level) in the mean height of three groups of adult people. Height is in inches.\n",
        "\n",
        "college_students = [71, 62, 63, 59, 67, 68, 63, 62, 66, 65, 61, 60]\n",
        "athletes = [67, 68, 72, 66, 65, 69, 71, 70, 65, 64, 68]\n",
        "army = [68, 67, 66, 68, 69, 70, 71, 69, 66, 67]"
      ],
      "metadata": {
        "id": "1iwMb-XfWCIO"
      }
    },
    {
      "cell_type": "code",
      "source": [
        "alpha = 0.01\n",
        "college_students = [71, 62, 63, 59, 67, 68, 63, 62, 66, 65, 61, 60]\n",
        "athletes = [67, 68, 72, 66, 65, 69, 71, 70, 65, 64, 68]\n",
        "army = [68, 67, 66, 68, 69, 70, 71, 69, 66, 67]\n",
        "\n",
        "annova_stat , pval = f_oneway(college_students,athletes,army)\n",
        "print(pval)\n",
        "\n",
        "if pval < alpha:\n",
        "    print(\"Reject null Ho\")\n",
        "else:\n",
        "    print(\"fail to reject Ho\")"
      ],
      "metadata": {
        "colab": {
          "base_uri": "https://localhost:8080/"
        },
        "id": "VoPaKXLnWE-k",
        "outputId": "af866528-aba5-4825-addc-5ab84d90e5ef"
      },
      "execution_count": 11,
      "outputs": [
        {
          "output_type": "stream",
          "name": "stdout",
          "text": [
            "0.0017534092082519943\n",
            "Reject null Ho\n"
          ]
        }
      ]
    },
    {
      "cell_type": "markdown",
      "source": [
        "Q6: Suppose you have data on 150 students' exam scores, and you want to test if the distribution of scores falls within predefined categories.\n",
        "\n",
        "The expected distribution is\n",
        "\n",
        "30% in the \"Excellent\" category,\n",
        "40% in the \"Good\" category, and\n",
        "30% in the \"Average\" category.\n",
        "Upon observation, you notice that there are:\n",
        "\n",
        "45 students fall into the \"Excellent\" category,\n",
        "50 students into the \"Good\" category, and\n",
        "55 students into the \"Average\" category.\n",
        "Conduct an appropriate test to see if the distribution matches expectations at a 5% significance level"
      ],
      "metadata": {
        "id": "uIIVJ10QWv-V"
      }
    },
    {
      "cell_type": "code",
      "source": [
        "from scipy.stats import chisquare\n",
        "observed_counts = np.array([45, 50, 55])\n",
        "expected_counts = np.array([0.30 * 150, 0.40 * 150, 0.30 * 150])\n",
        "\n",
        "chi_squared_stat, p_value = chisquare(f_obs=observed_counts, f_exp=expected_counts)\n",
        "\n",
        "print(f\"Chi-Square Statistic: {chi_squared_stat}\")\n",
        "print(f\"P-value: {p_value}\")\n",
        "alpha = 0.05\n",
        "\n",
        "if p_value < alpha:\n",
        "    print(\"Reject the null hypothesis.\")\n",
        "else:\n",
        "    print(\"Fail to reject the null hypothesis.\")"
      ],
      "metadata": {
        "colab": {
          "base_uri": "https://localhost:8080/"
        },
        "id": "0DTPfj-pWzBt",
        "outputId": "bf476044-50d4-43fe-b3e1-68a0ebe7adef"
      },
      "execution_count": 13,
      "outputs": [
        {
          "output_type": "stream",
          "name": "stdout",
          "text": [
            "Chi-Square Statistic: 3.8888888888888893\n",
            "P-value: 0.1430666827544082\n",
            "Fail to reject the null hypothesis.\n"
          ]
        }
      ]
    },
    {
      "cell_type": "markdown",
      "source": [
        "Q7:Suppose you are interested in the distribution of the time spent by users on a website. You expect that:\n",
        "\n",
        "20% of users spend less than 5 minutes,\n",
        "50% spend between 5 and 10 minutes, and\n",
        "30% spend more than 10 minutes.\n",
        "After collecting data from 200 users, you find that\n",
        "\n",
        "30 users spent less than 5 minutes,\n",
        "85 users spent between 5 and 10 minutes, and\n",
        "85 users spent more than 10 minutes.\n",
        "Conduct an appropriate test to see if the distribution of browsing times matches your expectations at a 5% significance level."
      ],
      "metadata": {
        "id": "nMVBJfsaX8dx"
      }
    },
    {
      "cell_type": "code",
      "source": [
        "# H0: Distribution of browsing matches expected outcome\n",
        "# Ha: Distribution of browsing does not match what is expected\n",
        "obeserved = [30,85,85]\n",
        "expected = [(200*0.20),(200*0.50), (200*0.30)]\n",
        "chi,p_value = chisquare(obeserved,expected)\n",
        "alpha = 0.05\n",
        "if p_value < alpha:\n",
        "    print(p_value)\n",
        "    print('reject the null hypothesis')\n",
        "else:\n",
        "    print('Fail to reject')\n",
        "    print(p_value)"
      ],
      "metadata": {
        "colab": {
          "base_uri": "https://localhost:8080/"
        },
        "id": "mOluMsIRX_HF",
        "outputId": "6d8ca5b2-75b2-40b7-a018-99324c91aa83"
      },
      "execution_count": 14,
      "outputs": [
        {
          "output_type": "stream",
          "name": "stdout",
          "text": [
            "0.0005088621855732918\n",
            "reject the null hypothesis\n"
          ]
        }
      ]
    }
  ]
}