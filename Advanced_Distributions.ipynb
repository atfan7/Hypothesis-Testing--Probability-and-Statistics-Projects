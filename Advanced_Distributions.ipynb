{
  "cells": [
    {
      "cell_type": "markdown",
      "metadata": {
        "id": "view-in-github",
        "colab_type": "text"
      },
      "source": [
        "<a href=\"https://colab.research.google.com/github/atfan7/Hypothesis-Testing--Probability-and-Statistics-Projects/blob/main/Advanced_Distributions.ipynb\" target=\"_parent\"><img src=\"https://colab.research.google.com/assets/colab-badge.svg\" alt=\"Open In Colab\"/></a>"
      ]
    },
    {
      "cell_type": "markdown",
      "source": [
        "# **Poisson Distribution**"
      ],
      "metadata": {
        "id": "JTE82hrmZY0l"
      },
      "id": "JTE82hrmZY0l"
    },
    {
      "cell_type": "code",
      "execution_count": 41,
      "id": "17844539",
      "metadata": {
        "id": "17844539"
      },
      "outputs": [],
      "source": [
        "import numpy as np\n",
        "import pandas as pd\n",
        "import seaborn as sns\n",
        "import matplotlib.pyplot as plt\n",
        "\n",
        "from scipy.stats import poisson, binom"
      ]
    },
    {
      "cell_type": "code",
      "execution_count": 42,
      "id": "1194cd71",
      "metadata": {
        "id": "1194cd71"
      },
      "outputs": [],
      "source": [
        "#Accident - A city sees 3 accidents per day on average."
      ]
    },
    {
      "cell_type": "code",
      "execution_count": 43,
      "id": "2e37d40f",
      "metadata": {
        "id": "2e37d40f"
      },
      "outputs": [],
      "source": [
        "#Find the probability that there will be (exactly) 5 accidents tomorrow"
      ]
    },
    {
      "cell_type": "code",
      "execution_count": 44,
      "id": "5a2095c1",
      "metadata": {
        "colab": {
          "base_uri": "https://localhost:8080/"
        },
        "id": "5a2095c1",
        "outputId": "ed39ffdc-d754-4700-80ca-ce2c5a832953"
      },
      "outputs": [
        {
          "output_type": "execute_result",
          "data": {
            "text/plain": [
              "0.10081881344492458"
            ]
          },
          "metadata": {},
          "execution_count": 44
        }
      ],
      "source": [
        "poisson.pmf(k=5,mu=3) #pmf : ="
      ]
    },
    {
      "cell_type": "code",
      "execution_count": 45,
      "id": "4ebf47ef",
      "metadata": {
        "id": "4ebf47ef"
      },
      "outputs": [],
      "source": [
        "# Find the probability that there will be 5 or fewer accidents tomorrow"
      ]
    },
    {
      "cell_type": "code",
      "execution_count": 46,
      "id": "0bd1734e",
      "metadata": {
        "colab": {
          "base_uri": "https://localhost:8080/"
        },
        "id": "0bd1734e",
        "outputId": "54a292d3-b7f5-4a03-80b6-31989c1c4a7b"
      },
      "outputs": [
        {
          "output_type": "execute_result",
          "data": {
            "text/plain": [
              "0.9160820579686966"
            ]
          },
          "metadata": {},
          "execution_count": 46
        }
      ],
      "source": [
        "poisson.cdf(k=5, mu=3) #cdf : <="
      ]
    },
    {
      "cell_type": "code",
      "execution_count": 47,
      "id": "0ffddfdc",
      "metadata": {
        "id": "0ffddfdc"
      },
      "outputs": [],
      "source": [
        "#Customers"
      ]
    },
    {
      "cell_type": "markdown",
      "id": "df25b2b1",
      "metadata": {
        "id": "df25b2b1"
      },
      "source": [
        "A shop is open for 8 hours. The average number of customers is 74 - assume Poisson distributed.What is the probability that in 2 hours, there will be at most 15 customers?"
      ]
    },
    {
      "cell_type": "code",
      "execution_count": 48,
      "id": "43c804d6",
      "metadata": {
        "colab": {
          "base_uri": "https://localhost:8080/"
        },
        "id": "43c804d6",
        "outputId": "4912d820-7949-4271-8577-bd3c1ea7cf0b"
      },
      "outputs": [
        {
          "output_type": "execute_result",
          "data": {
            "text/plain": [
              "18.5"
            ]
          },
          "metadata": {},
          "execution_count": 48
        }
      ],
      "source": [
        "74/4"
      ]
    },
    {
      "cell_type": "code",
      "execution_count": 49,
      "id": "4cbe0fe8",
      "metadata": {
        "colab": {
          "base_uri": "https://localhost:8080/"
        },
        "id": "4cbe0fe8",
        "outputId": "8b90dd14-8cfc-443e-ca76-82e3a6e967ac"
      },
      "outputs": [
        {
          "output_type": "execute_result",
          "data": {
            "text/plain": [
              "0.24902769151284776"
            ]
          },
          "metadata": {},
          "execution_count": 49
        }
      ],
      "source": [
        "poisson.cdf(k=15, mu=18.5)"
      ]
    },
    {
      "cell_type": "code",
      "execution_count": 50,
      "id": "8d187abc",
      "metadata": {
        "id": "8d187abc"
      },
      "outputs": [],
      "source": [
        "#What is the probability that in 2 hours, there will be at least 7 customers?"
      ]
    },
    {
      "cell_type": "code",
      "execution_count": 51,
      "id": "a4a34c2a",
      "metadata": {
        "colab": {
          "base_uri": "https://localhost:8080/"
        },
        "id": "a4a34c2a",
        "outputId": "802e67cb-dc97-4fbd-a98c-c9dca1138624"
      },
      "outputs": [
        {
          "output_type": "execute_result",
          "data": {
            "text/plain": [
              "0.9992622541111789"
            ]
          },
          "metadata": {},
          "execution_count": 51
        }
      ],
      "source": [
        "# P[x >=7] = 1 - P[x<=6]  #discrete\n",
        "# P[x >=7] = 1 - P[x<7]  #continuous\n",
        "\n",
        "1 - poisson.cdf(k=6, mu=18.5)"
      ]
    },
    {
      "cell_type": "code",
      "execution_count": 52,
      "id": "9e2093d4",
      "metadata": {
        "id": "9e2093d4"
      },
      "outputs": [],
      "source": [
        "#Quiz 1 : You receive 240 messages per hour on average - assume Poisson distributed\n",
        "\n",
        "#Assumption : whatever messages we received in the past wont affect what is happening in the future\n",
        "\n",
        "#What is the probability of one message arriving over a 30 second time interval?"
      ]
    },
    {
      "cell_type": "code",
      "execution_count": 53,
      "id": "38a0b324",
      "metadata": {
        "id": "38a0b324"
      },
      "outputs": [],
      "source": [
        "#3600 seconds in 1 hour"
      ]
    },
    {
      "cell_type": "code",
      "execution_count": 54,
      "id": "3db02b9f",
      "metadata": {
        "colab": {
          "base_uri": "https://localhost:8080/"
        },
        "id": "3db02b9f",
        "outputId": "081a9b4f-2dc9-4921-f753-dc149b96e716"
      },
      "outputs": [
        {
          "output_type": "execute_result",
          "data": {
            "text/plain": [
              "2.0"
            ]
          },
          "metadata": {},
          "execution_count": 54
        }
      ],
      "source": [
        "30*240/3600 #rate"
      ]
    },
    {
      "cell_type": "code",
      "execution_count": 55,
      "id": "8fbd8f6d",
      "metadata": {
        "colab": {
          "base_uri": "https://localhost:8080/"
        },
        "id": "8fbd8f6d",
        "outputId": "5de15afc-06dc-41e8-fa7c-a8e11bc01be4"
      },
      "outputs": [
        {
          "output_type": "execute_result",
          "data": {
            "text/plain": [
              "0.2706705664732254"
            ]
          },
          "metadata": {},
          "execution_count": 55
        }
      ],
      "source": [
        "poisson.pmf(k=1,mu=2)"
      ]
    },
    {
      "cell_type": "code",
      "execution_count": 56,
      "id": "971ba7c8",
      "metadata": {
        "id": "971ba7c8"
      },
      "outputs": [],
      "source": [
        "#Quiz 2 : What is the probability that there are no messages in 15 seconds?"
      ]
    },
    {
      "cell_type": "code",
      "execution_count": 57,
      "id": "9daffd20",
      "metadata": {
        "colab": {
          "base_uri": "https://localhost:8080/"
        },
        "id": "9daffd20",
        "outputId": "54e54233-d936-43c2-d37e-01a7420e0c8c"
      },
      "outputs": [
        {
          "output_type": "execute_result",
          "data": {
            "text/plain": [
              "1.0"
            ]
          },
          "metadata": {},
          "execution_count": 57
        }
      ],
      "source": [
        "15*240/3600 #rate"
      ]
    },
    {
      "cell_type": "code",
      "execution_count": 58,
      "id": "87c8f633",
      "metadata": {
        "colab": {
          "base_uri": "https://localhost:8080/"
        },
        "id": "87c8f633",
        "outputId": "27bbd6cf-7ac3-41c9-9390-e3a4817ec073"
      },
      "outputs": [
        {
          "output_type": "execute_result",
          "data": {
            "text/plain": [
              "0.36787944117144233"
            ]
          },
          "metadata": {},
          "execution_count": 58
        }
      ],
      "source": [
        "poisson.pmf(k=0, mu=1)"
      ]
    },
    {
      "cell_type": "code",
      "execution_count": 59,
      "id": "765c3bca",
      "metadata": {
        "id": "765c3bca"
      },
      "outputs": [],
      "source": [
        "#Kindergarten"
      ]
    },
    {
      "cell_type": "markdown",
      "id": "79883287",
      "metadata": {
        "id": "79883287"
      },
      "source": [
        "There are 80 students in a kindergarten class. Each one of them has 0.015 probability of forgetting their lunch on any given day.\n",
        "\n",
        "What is the average or expected number of students who forgot lunch in the class?"
      ]
    },
    {
      "cell_type": "code",
      "execution_count": 60,
      "id": "a459ec74",
      "metadata": {
        "colab": {
          "base_uri": "https://localhost:8080/"
        },
        "id": "a459ec74",
        "outputId": "5ff75fd2-1b88-485f-9982-781188d689ba"
      },
      "outputs": [
        {
          "output_type": "execute_result",
          "data": {
            "text/plain": [
              "1.2"
            ]
          },
          "metadata": {},
          "execution_count": 60
        }
      ],
      "source": [
        "80*0.015"
      ]
    },
    {
      "cell_type": "markdown",
      "id": "7cfd0398",
      "metadata": {
        "id": "7cfd0398"
      },
      "source": [
        "Quiz 3 : There are 80 students in a kinder-garten class. What is the probability that exactly 3 of them will forget their lunch today?"
      ]
    },
    {
      "cell_type": "code",
      "execution_count": 61,
      "id": "c75fc32a",
      "metadata": {
        "colab": {
          "base_uri": "https://localhost:8080/"
        },
        "id": "c75fc32a",
        "outputId": "86ad43e3-d003-441b-a590-dc31fd1081b4"
      },
      "outputs": [
        {
          "output_type": "execute_result",
          "data": {
            "text/plain": [
              "0.08674393303071422"
            ]
          },
          "metadata": {},
          "execution_count": 61
        }
      ],
      "source": [
        "poisson.pmf(k=3, mu=1.2)"
      ]
    },
    {
      "cell_type": "code",
      "execution_count": 62,
      "id": "0fd0de4e",
      "metadata": {
        "colab": {
          "base_uri": "https://localhost:8080/"
        },
        "id": "0fd0de4e",
        "outputId": "1a59630c-c644-432d-eafe-21b6f0539371"
      },
      "outputs": [
        {
          "output_type": "execute_result",
          "data": {
            "text/plain": [
              "0.08660120920447557"
            ]
          },
          "metadata": {},
          "execution_count": 62
        }
      ],
      "source": [
        "binom.pmf(k=3, n=80, p=0.015) #Large n, small p, lambda = n*p --> poisson & binomial are closely related"
      ]
    },
    {
      "cell_type": "code",
      "execution_count": 63,
      "id": "4ba179c5",
      "metadata": {
        "id": "4ba179c5"
      },
      "outputs": [],
      "source": [
        "#Poisson distribution"
      ]
    },
    {
      "cell_type": "code",
      "execution_count": 64,
      "id": "1364c71a",
      "metadata": {
        "id": "1364c71a"
      },
      "outputs": [],
      "source": [
        "#Football - rate is 2.5 goals per match"
      ]
    },
    {
      "cell_type": "code",
      "execution_count": 65,
      "id": "238ef614",
      "metadata": {
        "id": "238ef614"
      },
      "outputs": [],
      "source": [
        "mu = 15"
      ]
    },
    {
      "cell_type": "code",
      "execution_count": 66,
      "id": "5c789fc9",
      "metadata": {
        "id": "5c789fc9"
      },
      "outputs": [],
      "source": [
        "x_values = np.arange(0, 30)"
      ]
    },
    {
      "cell_type": "code",
      "execution_count": 67,
      "id": "f05b9371",
      "metadata": {
        "id": "f05b9371"
      },
      "outputs": [],
      "source": [
        "y_values = poisson.pmf(x_values, mu=mu)"
      ]
    },
    {
      "cell_type": "code",
      "execution_count": 68,
      "id": "e6594cfd",
      "metadata": {
        "colab": {
          "base_uri": "https://localhost:8080/",
          "height": 448
        },
        "id": "e6594cfd",
        "outputId": "8638607e-8a73-45a3-bd0a-33fc4e16a649"
      },
      "outputs": [
        {
          "output_type": "execute_result",
          "data": {
            "text/plain": [
              "<Axes: >"
            ]
          },
          "metadata": {},
          "execution_count": 68
        },
        {
          "output_type": "display_data",
          "data": {
            "text/plain": [
              "<Figure size 640x480 with 1 Axes>"
            ],
            "image/png": "[encoded data removed]"
          },
          "metadata": {}
        }
      ],
      "source": [
        "sns.barplot(x=x_values, y=y_values)"
      ]
    }
  ],
  "metadata": {
    "kernelspec": {
      "display_name": "Python 3 (ipykernel)",
      "language": "python",
      "name": "python3"
    },
    "language_info": {
      "codemirror_mode": {
        "name": "ipython",
        "version": 3
      },
      "file_extension": ".py",
      "mimetype": "text/x-python",
      "name": "python",
      "nbconvert_exporter": "python",
      "pygments_lexer": "ipython3",
      "version": "3.10.9"
    },
    "colab": {
      "provenance": [],
      "include_colab_link": true
    }
  },
  "nbformat": 4,
  "nbformat_minor": 5
}